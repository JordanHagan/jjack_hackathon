{
 "cells": [
  {
   "cell_type": "code",
   "execution_count": 1,
   "metadata": {
    "collapsed": true
   },
   "outputs": [],
   "source": [
    "import plotly\n",
    "import plotly.plotly as py  \n",
    "import plotly.tools as tls\n",
    "from plotly.graph_objs import *\n",
    "import pandas as pd\n",
    "import numpy as np\n",
    "import time\n",
    "# py.sign_in(em_creds['username'], em_creds['api_key'])"
   ]
  },
  {
   "cell_type": "code",
   "execution_count": 54,
   "metadata": {},
   "outputs": [
    {
     "data": {
      "text/plain": [
       "((38707, 48), (9673, 48), (9682, 48), (9673, 48), (9679, 48))"
      ]
     },
     "execution_count": 54,
     "metadata": {},
     "output_type": "execute_result"
    }
   ],
   "source": [
    "df = pd.read_pickle('../Data/numeric_data.pkl')\n",
    "df = df[df.index >= '2017-01-01 00:00:00']\n",
    "df1 = df[df[\"AUT\"]==150]\n",
    "df2 = df[df[\"AUT\"]==250]\n",
    "df3 = df[df[\"AUT\"]==350]\n",
    "df4 = df[df[\"AUT\"]==450]\n",
    "df.shape, df1.shape, df2.shape, df3.shape, df4.shape"
   ]
  },
  {
   "cell_type": "code",
   "execution_count": 18,
   "metadata": {},
   "outputs": [
    {
     "data": {
      "text/plain": [
       "Index(['Autoclave Total Feed', 'Autoclave Level',\n",
       "       'Autoclave Vent Valve Position', 'Autoclave Pressure',\n",
       "       'Compartment A O2 Flow', 'Compartment B O2 Flow',\n",
       "       'Compartment C O2 Flow', 'Compartment D O2 Flow',\n",
       "       'Agitator A Vibration', 'Agitator B Vibration', 'Agitator C Vibration',\n",
       "       'Agitator D Vibration', 'Agitator E Vibration', 'Agitator F Vibration',\n",
       "       'Agitator G Vibration', 'Agitator A Speed', 'Agitator B Speed',\n",
       "       'Agitator C Speed', 'Agitator D Speed', 'Agitator A Power',\n",
       "       'Agitator B Power', 'Agitator C Power', 'Agitator D Power',\n",
       "       'Agitator E Current', 'Agitator F Current', 'Agitator G Current',\n",
       "       'Agitator A Cooling Water', 'Agitator B Cooling Water',\n",
       "       'Agitator C Cooling Water', 'Agitator D Cooling Water',\n",
       "       'Agitator E Cooling Water', 'Agitator F Cooling Water',\n",
       "       'Agitator G Cooling Water', 'Agitator A Temperature',\n",
       "       'Agitator B temperature', 'Agitator C temperature',\n",
       "       'Agitator D temperature', 'Agitator E temperature',\n",
       "       'Agitator F temperature', 'Agitator G temperature',\n",
       "       'Autoclave Compartment A Temperature',\n",
       "       'Autoclave Compartment B temperature',\n",
       "       'Autoclave Compartment C temperature',\n",
       "       'Autoclave Compartment D temperature',\n",
       "       'Autoclave Compartment E temperature',\n",
       "       'Autoclave Compartment F temperature',\n",
       "       'Autoclave Compartment G temperature', 'AUT'],\n",
       "      dtype='object')"
      ]
     },
     "execution_count": 18,
     "metadata": {},
     "output_type": "execute_result"
    }
   ],
   "source": [
    "df.columns"
   ]
  },
  {
   "cell_type": "markdown",
   "metadata": {},
   "source": [
    "Create streams with API tokens..."
   ]
  },
  {
   "cell_type": "code",
   "execution_count": 69,
   "metadata": {
    "collapsed": true
   },
   "outputs": [],
   "source": [
    "tls.set_credentials_file(stream_ids=['g47m0qdvo6', 'kzoyomikiz', 'hsm3znupsy', '7clo64dinx', 'y2rth6mxxd', \\\n",
    "                                     'rvt74f1fyc', 'vje4jt2erb', \n",
    "                    'rxqjmgg729', 'aq1djx45wl', 'ennooup3lg', 'bq8jykvaoe', 'a7vuweusoj', 'rpzesgr8vf', 'bw52a7dggn', \n",
    "                    'h1brmv1e4d', 'fwekhogx39', 'khiydw0s5c', '222ihsfazu', '9brm0mhjld', 'ztdo0rh33u', 'yan8fdakgn', \n",
    "                    'smqrc35tup', 'u5p33zebo0', '4ao8kanpzp', '4hzt2t87l2', '5962421rnl', '3pvqb2j08a', '1qun25biuj'])\n",
    "stream_ids = tls.get_credentials_file()['stream_ids']"
   ]
  },
  {
   "cell_type": "code",
   "execution_count": 71,
   "metadata": {
    "collapsed": true
   },
   "outputs": [],
   "source": [
    "# stream0 = Stream(token=stream_ids[0], maxpoints=336)\n",
    "# trace0 = Scatter(x=[], y=[], mode='lines+markers', stream=stream0, name='150')\n",
    "# s0 = py.Stream(stream_id=stream_ids[0])\n",
    "\n",
    "# stream1 = Stream(token=stream_ids[1], maxpoints=336)\n",
    "# trace1 = Scatter(x=[], y=[], mode='lines+markers', stream=stream1, name='250')\n",
    "# s1 = py.Stream(stream_id=stream_ids[1])\n",
    "\n",
    "# stream2 = Stream(token=stream_ids[2], maxpoints=336)\n",
    "# trace2 = Scatter(x=[], y=[], mode='lines+markers', stream=stream2, name='350')\n",
    "# s2 = py.Stream(stream_id=stream_ids[2])\n",
    "\n",
    "# stream3 = Stream(token=stream_ids[3], maxpoints=336)\n",
    "# trace3 = Scatter(x=[], y=[], mode='lines+markers', stream=stream3, name='450')\n",
    "# s3 = py.Stream(stream_id=stream_ids[3])\n",
    "\n",
    "# data = Data([trace0, trace1, trace2, trace3]) "
   ]
  },
  {
   "cell_type": "code",
   "execution_count": 76,
   "metadata": {},
   "outputs": [],
   "source": [
    "letters = ['Agitator A', 'Agitator B', 'Agitator C', 'Agitator D', 'Agitator E', 'Agitator F', 'Agitator G']\n",
    "letters.extend(letters)\n",
    "letters.extend(letters) # this gives enough letters for 4 autoclaves"
   ]
  },
  {
   "cell_type": "code",
   "execution_count": 93,
   "metadata": {},
   "outputs": [],
   "source": [
    "streams = [Stream(token=stream_id, maxpoints=192) for stream_id in stream_ids]\n",
    "traces = [Scatter(x=[], y=[], mode='lines', opacity=0.6, stream=stream, name=L) for stream, L in zip(streams,letters)]\n",
    "ss = [py.Stream(stream_id=stream_id) for stream_id in stream_ids]\n",
    "s0, s1, s2, s3, s4, s5, s6, \\\n",
    "s7, s8, s9, s10, s11, s12, s13, \\\n",
    "s14, s15, s16, s17, s18, s19, s20, \\\n",
    "s21, s22, s23, s24, s25, s26, s27 = ss"
   ]
  },
  {
   "cell_type": "code",
   "execution_count": 94,
   "metadata": {},
   "outputs": [],
   "source": [
    "data1 = Data(traces[0:7])\n",
    "data2 = Data(traces[7:14])\n",
    "data3 = Data(traces[14:21])\n",
    "data4 = Data(traces[21:])"
   ]
  },
  {
   "cell_type": "code",
   "execution_count": 95,
   "metadata": {
    "collapsed": true
   },
   "outputs": [],
   "source": [
    "layout = Layout(title='2017 Autoclave Streaming Vibration Data', xaxis=dict(title='Date/Time'), \\\n",
    "                    yaxis=dict(title='Vibration (mm/s)', autorange=True))"
   ]
  },
  {
   "cell_type": "code",
   "execution_count": 96,
   "metadata": {
    "collapsed": true
   },
   "outputs": [],
   "source": [
    "fig1 = Figure(data=data1, layout=layout)\n",
    "fig2 = Figure(data=data2, layout=layout)\n",
    "fig3 = Figure(data=data3, layout=layout)\n",
    "fig4 = Figure(data=data4, layout=layout)"
   ]
  },
  {
   "cell_type": "code",
   "execution_count": 97,
   "metadata": {
    "collapsed": true
   },
   "outputs": [],
   "source": [
    "# plotly.offline.plot(fig, filename='2017-stream-plot.html', show_link=False, auto_open=True)\n",
    "# tls.embed('bucklerchica','72');"
   ]
  },
  {
   "cell_type": "code",
   "execution_count": 98,
   "metadata": {
    "collapsed": true
   },
   "outputs": [],
   "source": [
    "# url1 = py.plot(fig1, filename='2017-stream-plot-150', auto_open=False)\n",
    "# url2 = py.plot(fig2, filename='2017-stream-plot-250', auto_open=False)\n",
    "# url3 = py.plot(fig3, filename='2017-stream-plot-350', auto_open=False)\n",
    "# url4 = py.plot(fig4, filename='2017-stream-plot-450', auto_open=False)"
   ]
  },
  {
   "cell_type": "code",
   "execution_count": 100,
   "metadata": {},
   "outputs": [
    {
     "data": {
      "text/plain": [
       "('https://plot.ly/~bucklerchica/73',\n",
       " 'https://plot.ly/~bucklerchica/75',\n",
       " 'https://plot.ly/~bucklerchica/76',\n",
       " 'https://plot.ly/~bucklerchica/77')"
      ]
     },
     "execution_count": 100,
     "metadata": {},
     "output_type": "execute_result"
    }
   ],
   "source": [
    "# 'https://plot.ly/~bucklerchica/72'\n",
    "url1, url2, url3, url4"
   ]
  },
  {
   "cell_type": "code",
   "execution_count": 101,
   "metadata": {},
   "outputs": [],
   "source": [
    "s0.open()\n",
    "s1.open()\n",
    "s2.open()\n",
    "s3.open()\n",
    "s4.open()\n",
    "s5.open()\n",
    "s6.open()\n",
    "\n",
    "for t in range(df1.shape[0]):\n",
    "    s0.write(dict(x=df1.index[t], \n",
    "                     y=df1['Agitator A Vibration'][t]))\n",
    "    s1.write(dict(x=df1.index[t], \n",
    "                     y=df1['Agitator B Vibration'][t]))\n",
    "    s2.write(dict(x=df1.index[t], \n",
    "                     y=df1['Agitator C Vibration'][t]))\n",
    "    s3.write(dict(x=df1.index[t], \n",
    "                     y=df1['Agitator D Vibration'][t]))\n",
    "    s4.write(dict(x=df1.index[t], \n",
    "                     y=df1['Agitator E Vibration'][t]))\n",
    "    s5.write(dict(x=df1.index[t], \n",
    "                     y=df1['Agitator F Vibration'][t]))\n",
    "    s6.write(dict(x=df1.index[t], \n",
    "                     y=df1['Agitator G Vibration'][t]))\n",
    "\n",
    "s0.close()\n",
    "s1.close()\n",
    "s2.close()\n",
    "s3.close()\n",
    "s4.close()\n",
    "s5.close()\n",
    "s6.close()"
   ]
  },
  {
   "cell_type": "code",
   "execution_count": 102,
   "metadata": {},
   "outputs": [],
   "source": [
    "s7.open()\n",
    "s8.open()\n",
    "s9.open()\n",
    "s10.open()\n",
    "s11.open()\n",
    "s12.open()\n",
    "s13.open()\n",
    "\n",
    "for t in range(df2.shape[0]):\n",
    "    s7.write(dict(x=df2.index[t], \n",
    "                     y=df2['Agitator A Vibration'][t]))\n",
    "    s8.write(dict(x=df2.index[t], \n",
    "                     y=df2['Agitator B Vibration'][t]))\n",
    "    s9.write(dict(x=df2.index[t], \n",
    "                     y=df2['Agitator C Vibration'][t]))\n",
    "    s10.write(dict(x=df2.index[t], \n",
    "                     y=df2['Agitator D Vibration'][t]))\n",
    "    s11.write(dict(x=df2.index[t], \n",
    "                     y=df2['Agitator E Vibration'][t]))\n",
    "    s12.write(dict(x=df2.index[t], \n",
    "                     y=df2['Agitator F Vibration'][t]))\n",
    "    s13.write(dict(x=df2.index[t], \n",
    "                     y=df2['Agitator G Vibration'][t]))\n",
    "\n",
    "s7.close()\n",
    "s8.close()\n",
    "s9.close()\n",
    "s10.close()\n",
    "s11.close()\n",
    "s12.close()\n",
    "s13.close()"
   ]
  },
  {
   "cell_type": "code",
   "execution_count": 103,
   "metadata": {
    "collapsed": true
   },
   "outputs": [],
   "source": [
    "s14.open()\n",
    "s15.open()\n",
    "s16.open()\n",
    "s17.open()\n",
    "s18.open()\n",
    "s19.open()\n",
    "s20.open()\n",
    "\n",
    "for t in range(df3.shape[0]):\n",
    "    s14.write(dict(x=df3.index[t], \n",
    "                     y=df3['Agitator A Vibration'][t]))\n",
    "    s15.write(dict(x=df3.index[t], \n",
    "                     y=df3['Agitator B Vibration'][t]))\n",
    "    s16.write(dict(x=df3.index[t], \n",
    "                     y=df3['Agitator C Vibration'][t]))\n",
    "    s17.write(dict(x=df3.index[t], \n",
    "                     y=df3['Agitator D Vibration'][t]))\n",
    "    s18.write(dict(x=df3.index[t], \n",
    "                     y=df3['Agitator E Vibration'][t]))\n",
    "    s19.write(dict(x=df3.index[t], \n",
    "                     y=df3['Agitator F Vibration'][t]))\n",
    "    s20.write(dict(x=df3.index[t], \n",
    "                     y=df3['Agitator G Vibration'][t]))\n",
    "\n",
    "s14.close()\n",
    "s15.close()\n",
    "s16.close()\n",
    "s17.close()\n",
    "s18.close()\n",
    "s19.close()\n",
    "s20.close()"
   ]
  },
  {
   "cell_type": "code",
   "execution_count": 104,
   "metadata": {
    "collapsed": true
   },
   "outputs": [],
   "source": [
    "s21.open()\n",
    "s22.open()\n",
    "s23.open()\n",
    "s24.open()\n",
    "s25.open()\n",
    "s26.open()\n",
    "s27.open()\n",
    "\n",
    "for t in range(df4.shape[0]):\n",
    "    s21.write(dict(x=df4.index[t], \n",
    "                     y=df4['Agitator A Vibration'][t]))\n",
    "    s22.write(dict(x=df4.index[t], \n",
    "                     y=df4['Agitator B Vibration'][t]))\n",
    "    s23.write(dict(x=df4.index[t], \n",
    "                     y=df4['Agitator C Vibration'][t]))\n",
    "    s24.write(dict(x=df4.index[t], \n",
    "                     y=df4['Agitator D Vibration'][t]))\n",
    "    s25.write(dict(x=df4.index[t], \n",
    "                     y=df4['Agitator E Vibration'][t]))\n",
    "    s26.write(dict(x=df4.index[t], \n",
    "                     y=df4['Agitator F Vibration'][t]))\n",
    "    s27.write(dict(x=df4.index[t], \n",
    "                     y=df4['Agitator G Vibration'][t]))\n",
    "\n",
    "s21.close()\n",
    "s22.close()\n",
    "s23.close()\n",
    "s24.close()\n",
    "s25.close()\n",
    "s26.close()\n",
    "s27.close()"
   ]
  },
  {
   "cell_type": "code",
   "execution_count": null,
   "metadata": {
    "collapsed": true
   },
   "outputs": [],
   "source": []
  }
 ],
 "metadata": {
  "kernelspec": {
   "display_name": "Python 3",
   "language": "python",
   "name": "python3"
  },
  "language_info": {
   "codemirror_mode": {
    "name": "ipython",
    "version": 3
   },
   "file_extension": ".py",
   "mimetype": "text/x-python",
   "name": "python",
   "nbconvert_exporter": "python",
   "pygments_lexer": "ipython3",
   "version": "3.6.2"
  }
 },
 "nbformat": 4,
 "nbformat_minor": 2
}
